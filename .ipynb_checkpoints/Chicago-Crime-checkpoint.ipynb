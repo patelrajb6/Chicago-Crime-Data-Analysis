{
 "cells": [
  {
   "cell_type": "code",
   "execution_count": 2,
   "metadata": {},
   "outputs": [],
   "source": [
    "import pandas as pd\n",
    "import numpy as np\n",
    "#libraries that will be used for data collection, storing, cleaning"
   ]
  },
  {
   "cell_type": "code",
   "execution_count": 3,
   "metadata": {},
   "outputs": [
    {
     "name": "stderr",
     "output_type": "stream",
     "text": [
      "/Users/raj/anaconda3/lib/python3.7/site-packages/IPython/core/interactiveshell.py:3058: DtypeWarning: Columns (21) have mixed types. Specify dtype option on import or set low_memory=False.\n",
      "  interactivity=interactivity, compiler=compiler, result=result)\n"
     ]
    }
   ],
   "source": [
    "raw_data=pd.read_csv('data.csv')  #reading in the raw data from the csv and stored into dataframe"
   ]
  },
  {
   "cell_type": "code",
   "execution_count": null,
   "metadata": {
    "scrolled": true
   },
   "outputs": [],
   "source": [
    "#cleaning the data\n",
    "\n",
    "#dropping the duplicate and unwanted columns\n",
    "after_dropped_data=raw_data.drop(columns=['Location','Updated On','X Coordinate','Y Coordinate']) #columns which are not necessary and are duplicates\n",
    "\n",
    "\n",
    "#total count of values\n",
    "total_count= after_dropped_data.count()\n",
    "total_count\n",
    "\n",
    "count=after_dropped_data.isna().sum() #counting for each column of how many null values are there\n",
    "\n",
    "def get_cols_withNan(series):      #getting the selected colums with null values and their count\n",
    "    hasNaN_col=[]\n",
    "    for index, value in series.items():\n",
    "        if(value>0):\n",
    "            hasNaN_col.append(index)\n",
    "    return series[hasNaN_col]\n",
    "\n",
    "\n",
    "#fixing the NaN data\n",
    "\n",
    "\n",
    "Columns_with_null=get_cols_withNan(count)\n",
    "Columns_with_null\n",
    "\n",
    "\n",
    "    \n",
    "    "
   ]
  },
  {
   "cell_type": "code",
   "execution_count": null,
   "metadata": {},
   "outputs": [],
   "source": []
  }
 ],
 "metadata": {
  "kernelspec": {
   "display_name": "Python 3",
   "language": "python",
   "name": "python3"
  },
  "language_info": {
   "codemirror_mode": {
    "name": "ipython",
    "version": 3
   },
   "file_extension": ".py",
   "mimetype": "text/x-python",
   "name": "python",
   "nbconvert_exporter": "python",
   "pygments_lexer": "ipython3",
   "version": "3.7.4"
  }
 },
 "nbformat": 4,
 "nbformat_minor": 2
}
