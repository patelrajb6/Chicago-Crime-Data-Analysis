{
 "cells": [
  {
   "cell_type": "code",
   "execution_count": 1,
   "metadata": {},
   "outputs": [],
   "source": [
    "import pandas as pd\n",
    "import numpy as np\n",
    "#libraries that will be used for data collection, storing, cleaning"
   ]
  },
  {
   "cell_type": "code",
   "execution_count": 2,
   "metadata": {},
   "outputs": [
    {
     "name": "stderr",
     "output_type": "stream",
     "text": [
      "/Users/raj/anaconda3/lib/python3.7/site-packages/IPython/core/interactiveshell.py:3058: DtypeWarning: Columns (21) have mixed types. Specify dtype option on import or set low_memory=False.\n",
      "  interactivity=interactivity, compiler=compiler, result=result)\n"
     ]
    }
   ],
   "source": [
    "raw_data=pd.read_csv('data.csv')  #reading in the raw data from the csv and stored into dataframe"
   ]
  },
  {
   "cell_type": "code",
   "execution_count": 10,
   "metadata": {
    "scrolled": true
   },
   "outputs": [
    {
     "name": "stdout",
     "output_type": "stream",
     "text": [
      "                      Total Null  Total Non-Null   Percent\n",
      "Case Number                  4.0         7083777  0.000056\n",
      "Community Area          613495.0         6470286  9.481729\n",
      "District                    47.0         7083734  0.000663\n",
      "Latitude                 67990.0         7015791  0.969100\n",
      "Location Description      6320.0         7077461  0.089298\n",
      "Longitude                67990.0         7015791  0.969100\n",
      "Ward                    614828.0         6468953  9.504289\n"
     ]
    }
   ],
   "source": [
    "#cleaning the data\n",
    "\n",
    "#dropping the duplicate and unwanted columns\n",
    "after_dropped_data=raw_data.drop(columns=['Location','Updated On','X Coordinate','Y Coordinate']) #columns which are not necessary and are duplicates\n",
    "\n",
    "#counting for each column of how many null values are there\n",
    "count=after_dropped_data.isna().sum() \n",
    "\n",
    "#getting the selected colums with null values and their count\n",
    "def get_cols_withNan(series):      \n",
    "    hasNaN_col=[]\n",
    "    for index, value in series.items():\n",
    "        if(value>0):\n",
    "            hasNaN_col.append(index)\n",
    "    return series[hasNaN_col]\n",
    "\n",
    "\n",
    "#fixing the NaN data\n",
    "\n",
    "# #total count of non null values\n",
    "nonNull_columns= after_dropped_data.count()\n",
    "\n",
    "# #total columns with null values\n",
    "Columns_with_null=get_cols_withNan(count)\n",
    "\n",
    "#comparing null vs non null\n",
    "percent=(Columns_with_null/nonNull_columns)*100\n",
    "\n",
    "#final dataframe with the data\n",
    "columns={'Total Null':Columns_with_null,'Total Non-Null':nonNull_columns,'Percent':percent}\n",
    "NullvsNonNull=pd.DataFrame(columns).dropna()\n",
    "\n",
    "print(NullvsNonNull)\n",
    "\n",
    "#from the table it is visible that what columns have nulls and their percents\n",
    "#it is visible that Column Ward has 9.50% and Column Area has 9.48% null values so I am dropping that column too.\n",
    "after_dropped_data=after_dropped_data.drop(columns=['Community Area','Ward'])\n"
   ]
  },
  {
   "cell_type": "code",
   "execution_count": 16,
   "metadata": {},
   "outputs": [
    {
     "data": {
      "text/plain": [
       "ID                      True\n",
       "Case Number             True\n",
       "Date                    True\n",
       "Block                   True\n",
       "IUCR                    True\n",
       "Primary Type            True\n",
       "Description             True\n",
       "Location Description    True\n",
       "Arrest                  True\n",
       "Domestic                True\n",
       "Beat                    True\n",
       "District                True\n",
       "FBI Code                True\n",
       "Year                    True\n",
       "Latitude                True\n",
       "Longitude               True\n",
       "dtype: bool"
      ]
     },
     "execution_count": 16,
     "metadata": {},
     "output_type": "execute_result"
    }
   ],
   "source": [
    "# cleaniing the instances which have NaN\n",
    "\n",
    "#replacing null values\n",
    "#district, location description set to unknown  and longitude-latitude set to chicago in general \n",
    "changeNaN={'Case Number':0,'District':'Unknown','Location Description':'Unknown','Latitude':41.8781,'Longitude':87.6298}\n",
    "after_dropped_data.fillna(changeNaN,inplace=True)\n",
    "\n",
    "after_dropped_data.notna().all()\n",
    "#data has been prepared and cleaned now"
   ]
  },
  {
   "cell_type": "code",
   "execution_count": null,
   "metadata": {},
   "outputs": [],
   "source": []
  }
 ],
 "metadata": {
  "kernelspec": {
   "display_name": "Python 3",
   "language": "python",
   "name": "python3"
  },
  "language_info": {
   "codemirror_mode": {
    "name": "ipython",
    "version": 3
   },
   "file_extension": ".py",
   "mimetype": "text/x-python",
   "name": "python",
   "nbconvert_exporter": "python",
   "pygments_lexer": "ipython3",
   "version": "3.7.4"
  }
 },
 "nbformat": 4,
 "nbformat_minor": 2
}
